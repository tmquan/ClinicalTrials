{
 "cells": [
  {
   "cell_type": "markdown",
   "metadata": {},
   "source": [
    "# Prepartion"
   ]
  },
  {
   "cell_type": "code",
   "execution_count": null,
   "metadata": {},
   "outputs": [],
   "source": [
    "import os\n",
    "\n",
    "import numpy as np\n",
    "import pandas as pd\n",
    "pd.options.display.max_columns = 500\n",
    "pd.options.plotting.backend = 'matplotlib'\n",
    "\n",
    "# import plotly.io as pio\n",
    "# import plotly.express as px\n",
    "# pio.templates.default = \"plotly_white\" # \"plotly\", \"plotly_white\", \"plotly_dark\", \"ggplot2\", \"seaborn\", \"simple_white\", \"none\"\n",
    "\n",
    "# import seaborn as sns\n",
    "# sns.set_style(\"whitegrid\", {\"axes.facecolor\": \".9\"})\n",
    "\n",
    "import matplotlib.pyplot as plt\n",
    "# plt.rcParams['text.usetex'] = True\n",
    "\n",
    "%matplotlib inline"
   ]
  },
  {
   "cell_type": "markdown",
   "metadata": {},
   "source": [
    "# Data Schema"
   ]
  },
  {
   "cell_type": "code",
   "execution_count": null,
   "metadata": {},
   "outputs": [],
   "source": [
    "df = pd.read_csv(\n",
    "        \"data/dataset.csv\",\n",
    "  #     na_values=[ '', ' ', '?', '?|?','None', '-NaN', '-nan', '', 'N/A', 'NA', 'NULL', 'NaN', 'n/a', 'nan', 'null']\n",
    ") #.fillna(np.nan)"
   ]
  },
  {
   "cell_type": "code",
   "execution_count": null,
   "metadata": {},
   "outputs": [],
   "source": [
    "df.head()"
   ]
  },
  {
   "cell_type": "code",
   "execution_count": null,
   "metadata": {},
   "outputs": [],
   "source": [
    "df.info()"
   ]
  },
  {
   "cell_type": "code",
   "execution_count": null,
   "metadata": {},
   "outputs": [],
   "source": [
    "#\n",
    "# According to the documentation, i've put the features into 2 sets\n",
    "# URL: https://www.hindawi.com/journals/bmri/2014/781670/tab1/\n",
    "#\n",
    "\n",
    "#\n",
    "# patient and encounter id\n",
    "# (statistically not interesting)\n",
    "ids = [\n",
    "    'encounter_id',\n",
    "    'patient_nbr'\n",
    "]\n",
    "\n",
    "numerical_features = [\n",
    "    'time_in_hospital',    # Integer number of days between admission and discharge\n",
    "    'number_outpatient',\n",
    "    'number_inpatient',\n",
    "    'number_emergency',\n",
    "    'num_lab_procedures',\n",
    "    'number_diagnoses',\n",
    "    'num_medications',\n",
    "    'num_procedures'\n",
    "]\n",
    "\n",
    "categorical_features = [\n",
    "    'race', \n",
    "    'gender',\n",
    "    'age', \n",
    "    'weight',              # documentation says numeric, but here it is categorical\n",
    "    'admission_type_id',\n",
    "    'discharge_disposition_id',\n",
    "    'admission_source_id', \n",
    "    'payer_code',\n",
    "    'medical_specialty',\n",
    "    'primary_diagnosis_code',\n",
    "    'other_diagnosis_codes',\n",
    "    'ndc_code',\n",
    "    'max_glu_serum',\n",
    "    'A1Cresult',\n",
    "    'change',\n",
    "    'readmitted'\n",
    "]"
   ]
  },
  {
   "cell_type": "markdown",
   "metadata": {},
   "source": [
    "# Data Distribution"
   ]
  },
  {
   "cell_type": "markdown",
   "metadata": {},
   "source": [
    "### Categorical features"
   ]
  },
  {
   "cell_type": "code",
   "execution_count": null,
   "metadata": {},
   "outputs": [],
   "source": [
    "df[\"race\"].hist()"
   ]
  },
  {
   "cell_type": "code",
   "execution_count": null,
   "metadata": {},
   "outputs": [],
   "source": [
    "df[\"gender\"].hist()"
   ]
  },
  {
   "cell_type": "code",
   "execution_count": null,
   "metadata": {},
   "outputs": [],
   "source": [
    "df[\"age\"].hist()"
   ]
  },
  {
   "cell_type": "markdown",
   "metadata": {},
   "source": [
    "### Numerical features"
   ]
  },
  {
   "cell_type": "code",
   "execution_count": null,
   "metadata": {},
   "outputs": [],
   "source": [
    "df[numerical_features].hist(figsize=(20,10), bins=100, layout=(2,4))"
   ]
  },
  {
   "cell_type": "markdown",
   "metadata": {},
   "source": [
    "# Data missingness"
   ]
  },
  {
   "cell_type": "code",
   "execution_count": null,
   "metadata": {},
   "outputs": [],
   "source": [
    "df_columns_info = []\n",
    "\n",
    "df_columns_info += [{\n",
    "    'Feature': col, \n",
    "    'Frquency': df.shape[0],\n",
    "    '# Freq_Null': df[col].isnull().sum(), \n",
    "    '% Freq_Null': np.around(df[col].isnull().sum()/df.shape[0]*100, 1), \n",
    "    '# Freq_Zeros': (df[col]==0).sum(), \n",
    "    '% Freq_Zeros': np.around((df[col] == 0).sum()/df.shape[0]*100, 1), \n",
    "    'Type': 'Numerical'\n",
    "} for col in list(numerical_features)]\n",
    "\n",
    "df_columns_info += [{\n",
    "    'Feature': col, \n",
    "    'Frequency': df.shape[0],\n",
    "    '# Freq_Null': df[col].isnull().sum(), \n",
    "    '% Freq_Null': np.around(df[col].isnull().sum()/df.shape[0]*100, 1), \n",
    "    '# Freq_Zeros': '-', \n",
    "    '% Freq_Zeros': '-', \n",
    "    'Type': 'Categorical'\n",
    "} for col in list(categorical_features)]\n",
    "\n",
    "\n",
    "pd.DataFrame(df_columns_info)"
   ]
  },
  {
   "cell_type": "markdown",
   "metadata": {},
   "source": [
    "# Data Outlier"
   ]
  },
  {
   "cell_type": "code",
   "execution_count": null,
   "metadata": {},
   "outputs": [],
   "source": [
    "df[numerical_features].boxplot(figsize=(20,10))"
   ]
  }
 ],
 "metadata": {
  "kernelspec": {
   "display_name": "Python 3",
   "language": "python",
   "name": "python3"
  },
  "language_info": {
   "codemirror_mode": {
    "name": "ipython",
    "version": 3
   },
   "file_extension": ".py",
   "mimetype": "text/x-python",
   "name": "python",
   "nbconvert_exporter": "python",
   "pygments_lexer": "ipython3",
   "version": "3.8.5"
  }
 },
 "nbformat": 4,
 "nbformat_minor": 5
}
