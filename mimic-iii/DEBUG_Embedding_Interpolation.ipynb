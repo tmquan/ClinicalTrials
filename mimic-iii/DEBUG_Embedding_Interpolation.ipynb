{
 "cells": [
  {
   "cell_type": "code",
   "execution_count": 6,
   "metadata": {},
   "outputs": [],
   "source": [
    "import matplotlib.pyplot as plt\n",
    "import seaborn as sns\n",
    "import umap\n",
    "import os\n",
    "\n",
    "import numpy as np\n",
    "import pandas as pd\n",
    "pd.options.display.max_columns = 500\n",
    "pd.options.plotting.backend = 'matplotlib'\n",
    "\n",
    "# import umap.plot\n",
    "# import plotly.io as pio\n",
    "# import plotly.express as px\n",
    "# pio.templates.default = \"plotly_white\" # \"plotly\", \"plotly_white\", \"plotly_dark\", \"ggplot2\", \"seaborn\", \"simple_white\", \"none\"\n",
    "\n",
    "sns.set_style(\"whitegrid\")\n",
    "\n",
    "plt.rcParams['text.usetex'] = True\n",
    "\n",
    "%matplotlib inline\n"
   ]
  },
  {
   "cell_type": "code",
   "execution_count": 7,
   "metadata": {},
   "outputs": [],
   "source": [
    "df = pd.read_csv(\n",
    "    \"data/NOTEEVENTS.csv\",\n",
    "    #     na_values=[ '', ' ', '?', '?|?','None', '-NaN', '-nan', '', 'N/A', 'NA', 'NULL', 'NaN', 'n/a', 'nan', 'null']\n",
    ")  # .fillna(np.nan)\n"
   ]
  },
  {
   "cell_type": "code",
   "execution_count": 8,
   "metadata": {},
   "outputs": [
    {
     "data": {
      "text/plain": [
       "0          Admission Date:  [**2151-7-16**]       Dischar...\n",
       "1          Admission Date:  [**2118-6-2**]       Discharg...\n",
       "2          Admission Date:  [**2119-5-4**]              D...\n",
       "3          Admission Date:  [**2124-7-21**]              ...\n",
       "4          Admission Date:  [**2162-3-3**]              D...\n",
       "                                 ...                        \n",
       "2083175    NPN\\n\\n\\n#1  Infant remains in RA with O2 sats...\n",
       "2083176    Neonatology\\nDOL #5, CGA 36 weeks.\\n\\nCVR: Con...\n",
       "2083177    Family Meeting Note\\nFamily meeting held with ...\n",
       "2083178    NPN 1800\\n\\n\\n#1 Resp: [**Known lastname 2243*...\n",
       "2083179    NPN 1800\\nNursing Addendum:\\n[**Known lastname...\n",
       "Name: TEXT, Length: 2083180, dtype: object"
      ]
     },
     "execution_count": 8,
     "metadata": {},
     "output_type": "execute_result"
    }
   ],
   "source": [
    "df.TEXT"
   ]
  },
  {
   "cell_type": "code",
   "execution_count": 12,
   "metadata": {},
   "outputs": [
    {
     "name": "stderr",
     "output_type": "stream",
     "text": [
      "Using 'sentence-transformers/all-MiniLM-L6-v2' provided by Hugging Face/transformers (https://github.com/huggingface/transformers).\n",
      "Using 'Pooling' provided by UKPLab/sentence-transformers (https://github.com/UKPLab/sentence-transformers).\n"
     ]
    }
   ],
   "source": [
    "import flash\n",
    "from flash.text import TextClassificationData, TextEmbedder\n",
    "\n",
    "# Wrapping the prediction data inside a datamodule\n",
    "datamodule = TextClassificationData.from_lists(\n",
    "    predict_data=df[\"TEXT\"].to_list()[:384],\n",
    "    batch_size=10,\n",
    ")\n",
    "\n",
    "# We are loading a pre-trained SentenceEmbedder\n",
    "model = TextEmbedder(backbone=\"sentence-transformers/all-MiniLM-L6-v2\")\n"
   ]
  },
  {
   "cell_type": "code",
   "execution_count": 13,
   "metadata": {},
   "outputs": [
    {
     "name": "stderr",
     "output_type": "stream",
     "text": [
      "GPU available: False, used: False\n",
      "TPU available: False, using: 0 TPU cores\n",
      "IPU available: False, using: 0 IPUs\n",
      "HPU available: False, using: 0 HPUs\n"
     ]
    },
    {
     "data": {
      "application/vnd.jupyter.widget-view+json": {
       "model_id": "d7db414fa7a94712aecbadc011051a34",
       "version_major": 2,
       "version_minor": 0
      },
      "text/plain": [
       "Predicting: 0it [00:00, ?it/s]"
      ]
     },
     "metadata": {},
     "output_type": "display_data"
    }
   ],
   "source": [
    "trainer = flash.Trainer(gpus=0)\n",
    "\n",
    "# Since this task is tackled unsupervised, the predict method generates sentence embeddings using the prediction input\n",
    "embeddings = trainer.predict(model, datamodule=datamodule)\n",
    "flatten_embeddings = np.array([item.numpy() for sublist in embeddings for item in sublist])"
   ]
  },
  {
   "cell_type": "code",
   "execution_count": 14,
   "metadata": {},
   "outputs": [
    {
     "name": "stdout",
     "output_type": "stream",
     "text": [
      "(384, 384)\n"
     ]
    }
   ],
   "source": [
    "print(flatten_embeddings.shape)"
   ]
  },
  {
   "cell_type": "code",
   "execution_count": 55,
   "metadata": {},
   "outputs": [
    {
     "data": {
      "text/plain": [
       "<matplotlib.image.AxesImage at 0x7fd1382ebaf0>"
      ]
     },
     "execution_count": 55,
     "metadata": {},
     "output_type": "execute_result"
    },
    {
     "data": {
      "image/png": "[encoded data removed]",
      "text/plain": [
       "<Figure size 1200x1200 with 1 Axes>"
      ]
     },
     "metadata": {},
     "output_type": "display_data"
    }
   ],
   "source": [
    "fig = plt.figure(figsize=(12, 12))\n",
    "# img = np.abs(flatten_embeddings)\n",
    "img = flatten_embeddings[:1].reshape(16, -1)\n",
    "# img = flatten_embeddings\n",
    "img -= img.mean()\n",
    "img /= img.std()\n",
    "plt.imshow(img, cmap=plt.cm.PiYG)\n"
   ]
  },
  {
   "cell_type": "code",
   "execution_count": 48,
   "metadata": {},
   "outputs": [
    {
     "data": {
      "text/plain": [
       "'Admission Date:  [**2151-7-16**]       Discharge Date:  [**2151-8-4**]\\n\\n\\nService:\\nADDENDUM:\\n\\nRADIOLOGIC STUDIES:  Radiologic studies also included a chest\\nCT, which confirmed cavitary lesions in the left lung apex\\nconsistent with infectious process/tuberculosis.  This also\\nmoderate-sized left pleural effusion.\\n\\nHEAD CT:  Head CT showed no intracranial hemorrhage or mass\\neffect, but old infarction consistent with past medical\\nhistory.\\n\\nABDOMINAL CT:  Abdominal CT showed lesions of\\nT10 and sacrum most likely secondary to osteoporosis. These can\\nbe followed by repeat imaging as an outpatient.\\n\\n\\n\\n                            [**First Name8 (NamePattern2) **] [**First Name4 (NamePattern1) 1775**] [**Last Name (NamePattern1) **], M.D.  [**MD Number(1) 1776**]\\n\\nDictated By:[**Hospital 1807**]\\nMEDQUIST36\\n\\nD:  [**2151-8-5**]  12:11\\nT:  [**2151-8-5**]  12:21\\nJOB#:  [**Job Number 1808**]\\n'"
      ]
     },
     "execution_count": 48,
     "metadata": {},
     "output_type": "execute_result"
    }
   ],
   "source": [
    "text = df[\"TEXT\"][0]\n",
    "text "
   ]
  },
  {
   "cell_type": "code",
   "execution_count": 51,
   "metadata": {},
   "outputs": [
    {
     "name": "stderr",
     "output_type": "stream",
     "text": [
      "2023-01-11 14:55:15 INFO: Checking for updates to resources.json in case models have been updated.  Note: this behavior can be turned off with download_method=None or download_method=DownloadMethod.REUSE_RESOURCES\n"
     ]
    },
    {
     "data": {
      "application/vnd.jupyter.widget-view+json": {
       "model_id": "2d5e2e8930134293b78279a1aaaec4ef",
       "version_major": 2,
       "version_minor": 0
      },
      "text/plain": [
       "Downloading https://raw.githubusercontent.com/stanfordnlp/stanza-resources/main/resources_1.4.1.json:   0%|   …"
      ]
     },
     "metadata": {},
     "output_type": "display_data"
    },
    {
     "name": "stderr",
     "output_type": "stream",
     "text": [
      "2023-01-11 14:55:16 INFO: Loading these models for language: en (English):\n",
      "========================\n",
      "| Processor | Package  |\n",
      "------------------------\n",
      "| tokenize  | combined |\n",
      "========================\n",
      "\n",
      "2023-01-11 14:55:16 INFO: Use device: cpu\n",
      "2023-01-11 14:55:16 INFO: Loading: tokenize\n",
      "2023-01-11 14:55:16 INFO: Done loading processors!\n"
     ]
    }
   ],
   "source": [
    "import stanza\n",
    "\n",
    "nlp = stanza.Pipeline(lang='en', processors='tokenize')\n",
    "doc = nlp(text)"
   ]
  },
  {
   "cell_type": "code",
   "execution_count": 52,
   "metadata": {},
   "outputs": [
    {
     "name": "stdout",
     "output_type": "stream",
     "text": [
      "16\n",
      "152\n"
     ]
    }
   ],
   "source": [
    "print(len(doc.sentences))\n",
    "print(doc.num_words)"
   ]
  },
  {
   "cell_type": "code",
   "execution_count": 53,
   "metadata": {},
   "outputs": [
    {
     "name": "stdout",
     "output_type": "stream",
     "text": [
      "====== Sentence 1 tokens =======\n",
      "id: (1,)\ttext: Admission\n",
      "id: (2,)\ttext: Date\n",
      "id: (3,)\ttext: :\n",
      "id: (4,)\ttext: [**2151-7-16**]\n",
      "====== Sentence 2 tokens =======\n",
      "id: (1,)\ttext: Discharge\n",
      "id: (2,)\ttext: Date\n",
      "id: (3,)\ttext: :\n",
      "id: (4,)\ttext: [**2151-8-4**]\n",
      "====== Sentence 3 tokens =======\n",
      "id: (1,)\ttext: Service\n",
      "id: (2,)\ttext: :\n",
      "id: (3,)\ttext: ADDENDUM\n",
      "id: (4,)\ttext: :\n",
      "====== Sentence 4 tokens =======\n",
      "id: (1,)\ttext: RADIOLOGIC\n",
      "id: (2,)\ttext: STUDIES\n",
      "id: (3,)\ttext: :\n",
      "id: (4,)\ttext: Radiologic\n",
      "id: (5,)\ttext: studies\n",
      "id: (6,)\ttext: also\n",
      "id: (7,)\ttext: included\n",
      "id: (8,)\ttext: a\n",
      "id: (9,)\ttext: chest\n",
      "id: (10,)\ttext: CT\n",
      "id: (11,)\ttext: ,\n",
      "id: (12,)\ttext: which\n",
      "id: (13,)\ttext: confirmed\n",
      "id: (14,)\ttext: cavitary\n",
      "id: (15,)\ttext: lesions\n",
      "id: (16,)\ttext: in\n",
      "id: (17,)\ttext: the\n",
      "id: (18,)\ttext: left\n",
      "id: (19,)\ttext: lung\n",
      "id: (20,)\ttext: apex\n",
      "id: (21,)\ttext: consistent\n",
      "id: (22,)\ttext: with\n",
      "id: (23,)\ttext: infectious\n",
      "id: (24,)\ttext: process\n",
      "id: (25,)\ttext: /\n",
      "id: (26,)\ttext: tuberculosis\n",
      "id: (27,)\ttext: .\n",
      "====== Sentence 5 tokens =======\n",
      "id: (1,)\ttext: This\n",
      "id: (2,)\ttext: also\n",
      "id: (3,)\ttext: moderate\n",
      "id: (4,)\ttext: -\n",
      "id: (5,)\ttext: sized\n",
      "id: (6,)\ttext: left\n",
      "id: (7,)\ttext: pleural\n",
      "id: (8,)\ttext: effusion\n",
      "id: (9,)\ttext: .\n",
      "====== Sentence 6 tokens =======\n",
      "id: (1,)\ttext: HEAD\n",
      "id: (2,)\ttext: CT\n",
      "id: (3,)\ttext: :\n",
      "id: (4,)\ttext: Head\n",
      "id: (5,)\ttext: CT\n",
      "id: (6,)\ttext: showed\n",
      "id: (7,)\ttext: no\n",
      "id: (8,)\ttext: intracranial\n",
      "id: (9,)\ttext: hemorrhage\n",
      "id: (10,)\ttext: or\n",
      "id: (11,)\ttext: mass\n",
      "id: (12,)\ttext: effect\n",
      "id: (13,)\ttext: ,\n",
      "id: (14,)\ttext: but\n",
      "id: (15,)\ttext: old\n",
      "id: (16,)\ttext: infarction\n",
      "id: (17,)\ttext: consistent\n",
      "id: (18,)\ttext: with\n",
      "id: (19,)\ttext: past\n",
      "id: (20,)\ttext: medical\n",
      "id: (21,)\ttext: history\n",
      "id: (22,)\ttext: .\n",
      "====== Sentence 7 tokens =======\n",
      "id: (1,)\ttext: ABDOMINAL\n",
      "id: (2,)\ttext: CT\n",
      "id: (3,)\ttext: :\n",
      "id: (4,)\ttext: Abdominal\n",
      "id: (5,)\ttext: CT\n",
      "id: (6,)\ttext: showed\n",
      "id: (7,)\ttext: lesions\n",
      "id: (8,)\ttext: of\n",
      "id: (9,)\ttext: T10\n",
      "id: (10,)\ttext: and\n",
      "id: (11,)\ttext: sacrum\n",
      "id: (12,)\ttext: most\n",
      "id: (13,)\ttext: likely\n",
      "id: (14,)\ttext: secondary\n",
      "id: (15,)\ttext: to\n",
      "id: (16,)\ttext: osteoporosis\n",
      "id: (17,)\ttext: .\n",
      "====== Sentence 8 tokens =======\n",
      "id: (1,)\ttext: These\n",
      "id: (2,)\ttext: can\n",
      "id: (3,)\ttext: be\n",
      "id: (4,)\ttext: followed\n",
      "id: (5,)\ttext: by\n",
      "id: (6,)\ttext: repeat\n",
      "id: (7,)\ttext: imaging\n",
      "id: (8,)\ttext: as\n",
      "id: (9,)\ttext: an\n",
      "id: (10,)\ttext: outpatient\n",
      "id: (11,)\ttext: .\n",
      "====== Sentence 9 tokens =======\n",
      "id: (1,)\ttext: [**\n",
      "id: (2,)\ttext: First\n",
      "id: (3,)\ttext: Name8\n",
      "id: (4,)\ttext: (\n",
      "id: (5,)\ttext: NamePattern2\n",
      "id: (6,)\ttext: )\n",
      "id: (7,)\ttext: **]\n",
      "====== Sentence 10 tokens =======\n",
      "id: (1,)\ttext: [**\n",
      "id: (2,)\ttext: First\n",
      "id: (3,)\ttext: Name4\n",
      "id: (4,)\ttext: (\n",
      "id: (5,)\ttext: NamePattern1\n",
      "id: (6,)\ttext: )\n",
      "id: (7,)\ttext: 1775\n",
      "id: (8,)\ttext: **]\n",
      "====== Sentence 11 tokens =======\n",
      "id: (1,)\ttext: [**\n",
      "id: (2,)\ttext: Last\n",
      "id: (3,)\ttext: Name\n",
      "id: (4,)\ttext: (\n",
      "id: (5,)\ttext: NamePattern1\n",
      "id: (6,)\ttext: )\n",
      "id: (7,)\ttext: **]\n",
      "id: (8,)\ttext: ,\n",
      "id: (9,)\ttext: M.D.\n",
      "id: (10,)\ttext: [**\n",
      "id: (11,)\ttext: MD\n",
      "id: (12,)\ttext: Number\n",
      "id: (13,)\ttext: (1\n",
      "id: (14,)\ttext: )\n",
      "id: (15,)\ttext: 1776\n",
      "id: (16,)\ttext: **]\n",
      "====== Sentence 12 tokens =======\n",
      "id: (1,)\ttext: Dictated\n",
      "id: (2,)\ttext: By\n",
      "id: (3,)\ttext: :[**\n",
      "id: (4,)\ttext: Hospital\n",
      "id: (5,)\ttext: 1807\n",
      "id: (6,)\ttext: **]\n",
      "====== Sentence 13 tokens =======\n",
      "id: (1,)\ttext: MEDQUIST36\n",
      "====== Sentence 14 tokens =======\n",
      "id: (1,)\ttext: D\n",
      "id: (2,)\ttext: :\n",
      "id: (3,)\ttext: [**2151-8-5**]\n",
      "====== Sentence 15 tokens =======\n",
      "id: (1,)\ttext: 12:11\n",
      "id: (2,)\ttext: T\n",
      "id: (3,)\ttext: :\n",
      "id: (4,)\ttext: [**2151-8-5**]\n",
      "====== Sentence 16 tokens =======\n",
      "id: (1,)\ttext: 12:21\n",
      "id: (2,)\ttext: JOB\n",
      "id: (3,)\ttext: #\n",
      "id: (4,)\ttext: :\n",
      "id: (5,)\ttext: [**\n",
      "id: (6,)\ttext: Job\n",
      "id: (7,)\ttext: Number\n",
      "id: (8,)\ttext: 1808\n",
      "id: (9,)\ttext: **]\n"
     ]
    }
   ],
   "source": [
    "for i, sentence in enumerate(doc.sentences):\n",
    "    print(f'====== Sentence {i+1} tokens =======')\n",
    "    print(\n",
    "        *[f'id: {token.id}\\ttext: {token.text}' for token in sentence.tokens], sep='\\n'\n",
    "    )\n"
   ]
  },
  {
   "cell_type": "code",
   "execution_count": null,
   "metadata": {},
   "outputs": [],
   "source": []
  }
 ],
 "metadata": {
  "kernelspec": {
   "display_name": "py38",
   "language": "python",
   "name": "python3"
  },
  "language_info": {
   "codemirror_mode": {
    "name": "ipython",
    "version": 3
   },
   "file_extension": ".py",
   "mimetype": "text/x-python",
   "name": "python",
   "nbconvert_exporter": "python",
   "pygments_lexer": "ipython3",
   "version": "3.8.8"
  },
  "orig_nbformat": 4,
  "vscode": {
   "interpreter": {
    "hash": "e1eed1d55b233d5970f04b73deadeae47fea62bb097d4ea0da934b11c1e6baf3"
   }
  }
 },
 "nbformat": 4,
 "nbformat_minor": 2
}
